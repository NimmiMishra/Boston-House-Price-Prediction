{
 "cells": [
  {
   "cell_type": "code",
   "execution_count": 3,
   "id": "c8f3d65e-5416-4604-8255-683c7ff9fe15",
   "metadata": {},
   "outputs": [],
   "source": [
    "# Numpy \n",
    "import numpy as np\n",
    "# Pandas \n",
    "import pandas as pd\n",
    "# Matplotlib\n",
    "import matplotlib.pyplot as plt\n",
    "# Seaborn \n",
    "import seaborn as sns\n",
    "# Warning \n",
    "from warnings import filterwarnings\n",
    "filterwarnings('ignore')\n"
   ]
  },
  {
   "cell_type": "code",
   "execution_count": 2,
   "id": "ebe53d4f-bee7-4307-8523-8fe26a5a5d01",
   "metadata": {},
   "outputs": [],
   "source": [
    "df=pd.read_csv('boston_house_prices.csv')"
   ]
  },
  {
   "cell_type": "code",
   "execution_count": 5,
   "id": "0c1dd6ae-b081-4f3d-9750-edaba6927bb6",
   "metadata": {},
   "outputs": [
    {
     "data": {
      "text/html": [
       "<div>\n",
       "<style scoped>\n",
       "    .dataframe tbody tr th:only-of-type {\n",
       "        vertical-align: middle;\n",
       "    }\n",
       "\n",
       "    .dataframe tbody tr th {\n",
       "        vertical-align: top;\n",
       "    }\n",
       "\n",
       "    .dataframe thead th {\n",
       "        text-align: right;\n",
       "    }\n",
       "</style>\n",
       "<table border=\"1\" class=\"dataframe\">\n",
       "  <thead>\n",
       "    <tr style=\"text-align: right;\">\n",
       "      <th></th>\n",
       "      <th>506</th>\n",
       "      <th>13</th>\n",
       "      <th>Unnamed: 2</th>\n",
       "      <th>Unnamed: 3</th>\n",
       "      <th>Unnamed: 4</th>\n",
       "      <th>Unnamed: 5</th>\n",
       "      <th>Unnamed: 6</th>\n",
       "      <th>Unnamed: 7</th>\n",
       "      <th>Unnamed: 8</th>\n",
       "      <th>Unnamed: 9</th>\n",
       "      <th>Unnamed: 10</th>\n",
       "      <th>Unnamed: 11</th>\n",
       "      <th>Unnamed: 12</th>\n",
       "      <th>Unnamed: 13</th>\n",
       "    </tr>\n",
       "  </thead>\n",
       "  <tbody>\n",
       "    <tr>\n",
       "      <th>0</th>\n",
       "      <td>CRIM</td>\n",
       "      <td>ZN</td>\n",
       "      <td>INDUS</td>\n",
       "      <td>CHAS</td>\n",
       "      <td>NOX</td>\n",
       "      <td>RM</td>\n",
       "      <td>AGE</td>\n",
       "      <td>DIS</td>\n",
       "      <td>RAD</td>\n",
       "      <td>TAX</td>\n",
       "      <td>PTRATIO</td>\n",
       "      <td>B</td>\n",
       "      <td>LSTAT</td>\n",
       "      <td>MEDV</td>\n",
       "    </tr>\n",
       "    <tr>\n",
       "      <th>1</th>\n",
       "      <td>0.00632</td>\n",
       "      <td>18</td>\n",
       "      <td>2.31</td>\n",
       "      <td>0</td>\n",
       "      <td>0.538</td>\n",
       "      <td>6.575</td>\n",
       "      <td>65.2</td>\n",
       "      <td>4.09</td>\n",
       "      <td>1</td>\n",
       "      <td>296</td>\n",
       "      <td>15.3</td>\n",
       "      <td>396.9</td>\n",
       "      <td>4.98</td>\n",
       "      <td>24</td>\n",
       "    </tr>\n",
       "    <tr>\n",
       "      <th>2</th>\n",
       "      <td>0.02731</td>\n",
       "      <td>0</td>\n",
       "      <td>7.07</td>\n",
       "      <td>0</td>\n",
       "      <td>0.469</td>\n",
       "      <td>6.421</td>\n",
       "      <td>78.9</td>\n",
       "      <td>4.9671</td>\n",
       "      <td>2</td>\n",
       "      <td>242</td>\n",
       "      <td>17.8</td>\n",
       "      <td>396.9</td>\n",
       "      <td>9.14</td>\n",
       "      <td>21.6</td>\n",
       "    </tr>\n",
       "    <tr>\n",
       "      <th>3</th>\n",
       "      <td>0.02729</td>\n",
       "      <td>0</td>\n",
       "      <td>7.07</td>\n",
       "      <td>0</td>\n",
       "      <td>0.469</td>\n",
       "      <td>7.185</td>\n",
       "      <td>61.1</td>\n",
       "      <td>4.9671</td>\n",
       "      <td>2</td>\n",
       "      <td>242</td>\n",
       "      <td>17.8</td>\n",
       "      <td>392.83</td>\n",
       "      <td>4.03</td>\n",
       "      <td>34.7</td>\n",
       "    </tr>\n",
       "    <tr>\n",
       "      <th>4</th>\n",
       "      <td>0.03237</td>\n",
       "      <td>0</td>\n",
       "      <td>2.18</td>\n",
       "      <td>0</td>\n",
       "      <td>0.458</td>\n",
       "      <td>6.998</td>\n",
       "      <td>45.8</td>\n",
       "      <td>6.0622</td>\n",
       "      <td>3</td>\n",
       "      <td>222</td>\n",
       "      <td>18.7</td>\n",
       "      <td>394.63</td>\n",
       "      <td>2.94</td>\n",
       "      <td>33.4</td>\n",
       "    </tr>\n",
       "  </tbody>\n",
       "</table>\n",
       "</div>"
      ],
      "text/plain": [
       "       506  13 Unnamed: 2 Unnamed: 3 Unnamed: 4 Unnamed: 5 Unnamed: 6  \\\n",
       "0     CRIM  ZN      INDUS       CHAS        NOX         RM        AGE   \n",
       "1  0.00632  18       2.31          0      0.538      6.575       65.2   \n",
       "2  0.02731   0       7.07          0      0.469      6.421       78.9   \n",
       "3  0.02729   0       7.07          0      0.469      7.185       61.1   \n",
       "4  0.03237   0       2.18          0      0.458      6.998       45.8   \n",
       "\n",
       "  Unnamed: 7 Unnamed: 8 Unnamed: 9 Unnamed: 10 Unnamed: 11 Unnamed: 12  \\\n",
       "0        DIS        RAD        TAX     PTRATIO           B       LSTAT   \n",
       "1       4.09          1        296        15.3       396.9        4.98   \n",
       "2     4.9671          2        242        17.8       396.9        9.14   \n",
       "3     4.9671          2        242        17.8      392.83        4.03   \n",
       "4     6.0622          3        222        18.7      394.63        2.94   \n",
       "\n",
       "  Unnamed: 13  \n",
       "0        MEDV  \n",
       "1          24  \n",
       "2        21.6  \n",
       "3        34.7  \n",
       "4        33.4  "
      ]
     },
     "execution_count": 5,
     "metadata": {},
     "output_type": "execute_result"
    }
   ],
   "source": [
    "df.head()"
   ]
  },
  {
   "cell_type": "code",
   "execution_count": 7,
   "id": "aaf5d56f-659e-439f-a132-5285524ef21c",
   "metadata": {},
   "outputs": [],
   "source": [
    "df.columns = df.iloc[0]  # Set the first row as the column headers\n",
    "df = df[1:]"
   ]
  },
  {
   "cell_type": "code",
   "execution_count": 9,
   "id": "42d0e6ce-f6fb-4eea-91d1-4e8106c87c74",
   "metadata": {},
   "outputs": [],
   "source": [
    "df.reset_index(drop=True, inplace=True)"
   ]
  },
  {
   "cell_type": "code",
   "execution_count": 11,
   "id": "ade50c7c-89c6-404f-9056-29346a7290c5",
   "metadata": {},
   "outputs": [
    {
     "data": {
      "text/html": [
       "<div>\n",
       "<style scoped>\n",
       "    .dataframe tbody tr th:only-of-type {\n",
       "        vertical-align: middle;\n",
       "    }\n",
       "\n",
       "    .dataframe tbody tr th {\n",
       "        vertical-align: top;\n",
       "    }\n",
       "\n",
       "    .dataframe thead th {\n",
       "        text-align: right;\n",
       "    }\n",
       "</style>\n",
       "<table border=\"1\" class=\"dataframe\">\n",
       "  <thead>\n",
       "    <tr style=\"text-align: right;\">\n",
       "      <th></th>\n",
       "      <th>CRIM</th>\n",
       "      <th>ZN</th>\n",
       "      <th>INDUS</th>\n",
       "      <th>CHAS</th>\n",
       "      <th>NOX</th>\n",
       "      <th>RM</th>\n",
       "      <th>AGE</th>\n",
       "      <th>DIS</th>\n",
       "      <th>RAD</th>\n",
       "      <th>TAX</th>\n",
       "      <th>PTRATIO</th>\n",
       "      <th>B</th>\n",
       "      <th>LSTAT</th>\n",
       "      <th>MEDV</th>\n",
       "    </tr>\n",
       "  </thead>\n",
       "  <tbody>\n",
       "    <tr>\n",
       "      <th>0</th>\n",
       "      <td>0.00632</td>\n",
       "      <td>18</td>\n",
       "      <td>2.31</td>\n",
       "      <td>0</td>\n",
       "      <td>0.538</td>\n",
       "      <td>6.575</td>\n",
       "      <td>65.2</td>\n",
       "      <td>4.09</td>\n",
       "      <td>1</td>\n",
       "      <td>296</td>\n",
       "      <td>15.3</td>\n",
       "      <td>396.9</td>\n",
       "      <td>4.98</td>\n",
       "      <td>24</td>\n",
       "    </tr>\n",
       "    <tr>\n",
       "      <th>1</th>\n",
       "      <td>0.02731</td>\n",
       "      <td>0</td>\n",
       "      <td>7.07</td>\n",
       "      <td>0</td>\n",
       "      <td>0.469</td>\n",
       "      <td>6.421</td>\n",
       "      <td>78.9</td>\n",
       "      <td>4.9671</td>\n",
       "      <td>2</td>\n",
       "      <td>242</td>\n",
       "      <td>17.8</td>\n",
       "      <td>396.9</td>\n",
       "      <td>9.14</td>\n",
       "      <td>21.6</td>\n",
       "    </tr>\n",
       "    <tr>\n",
       "      <th>2</th>\n",
       "      <td>0.02729</td>\n",
       "      <td>0</td>\n",
       "      <td>7.07</td>\n",
       "      <td>0</td>\n",
       "      <td>0.469</td>\n",
       "      <td>7.185</td>\n",
       "      <td>61.1</td>\n",
       "      <td>4.9671</td>\n",
       "      <td>2</td>\n",
       "      <td>242</td>\n",
       "      <td>17.8</td>\n",
       "      <td>392.83</td>\n",
       "      <td>4.03</td>\n",
       "      <td>34.7</td>\n",
       "    </tr>\n",
       "    <tr>\n",
       "      <th>3</th>\n",
       "      <td>0.03237</td>\n",
       "      <td>0</td>\n",
       "      <td>2.18</td>\n",
       "      <td>0</td>\n",
       "      <td>0.458</td>\n",
       "      <td>6.998</td>\n",
       "      <td>45.8</td>\n",
       "      <td>6.0622</td>\n",
       "      <td>3</td>\n",
       "      <td>222</td>\n",
       "      <td>18.7</td>\n",
       "      <td>394.63</td>\n",
       "      <td>2.94</td>\n",
       "      <td>33.4</td>\n",
       "    </tr>\n",
       "    <tr>\n",
       "      <th>4</th>\n",
       "      <td>0.06905</td>\n",
       "      <td>0</td>\n",
       "      <td>2.18</td>\n",
       "      <td>0</td>\n",
       "      <td>0.458</td>\n",
       "      <td>7.147</td>\n",
       "      <td>54.2</td>\n",
       "      <td>6.0622</td>\n",
       "      <td>3</td>\n",
       "      <td>222</td>\n",
       "      <td>18.7</td>\n",
       "      <td>396.9</td>\n",
       "      <td>5.33</td>\n",
       "      <td>36.2</td>\n",
       "    </tr>\n",
       "  </tbody>\n",
       "</table>\n",
       "</div>"
      ],
      "text/plain": [
       "0     CRIM  ZN INDUS CHAS    NOX     RM   AGE     DIS RAD  TAX PTRATIO  \\\n",
       "0  0.00632  18  2.31    0  0.538  6.575  65.2    4.09   1  296    15.3   \n",
       "1  0.02731   0  7.07    0  0.469  6.421  78.9  4.9671   2  242    17.8   \n",
       "2  0.02729   0  7.07    0  0.469  7.185  61.1  4.9671   2  242    17.8   \n",
       "3  0.03237   0  2.18    0  0.458  6.998  45.8  6.0622   3  222    18.7   \n",
       "4  0.06905   0  2.18    0  0.458  7.147  54.2  6.0622   3  222    18.7   \n",
       "\n",
       "0       B LSTAT  MEDV  \n",
       "0   396.9  4.98    24  \n",
       "1   396.9  9.14  21.6  \n",
       "2  392.83  4.03  34.7  \n",
       "3  394.63  2.94  33.4  \n",
       "4   396.9  5.33  36.2  "
      ]
     },
     "execution_count": 11,
     "metadata": {},
     "output_type": "execute_result"
    }
   ],
   "source": [
    "df.head()"
   ]
  },
  {
   "cell_type": "code",
   "execution_count": 13,
   "id": "4fff580b-3d59-4e45-92bc-9f1ed49caa15",
   "metadata": {},
   "outputs": [
    {
     "name": "stdout",
     "output_type": "stream",
     "text": [
      "0\n",
      "CRIM       0\n",
      "ZN         0\n",
      "INDUS      0\n",
      "CHAS       0\n",
      "NOX        0\n",
      "RM         0\n",
      "AGE        0\n",
      "DIS        0\n",
      "RAD        0\n",
      "TAX        0\n",
      "PTRATIO    0\n",
      "B          0\n",
      "LSTAT      0\n",
      "MEDV       0\n",
      "dtype: int64\n"
     ]
    }
   ],
   "source": [
    "# Check for missing values\n",
    "print(df.isnull().sum())\n",
    "\n",
    "# Optionally fill or drop missing values\n",
    "df.fillna(0, inplace=True)  # Example: fill missing values with 0\n"
   ]
  },
  {
   "cell_type": "code",
   "execution_count": 17,
   "id": "c9614f93-c991-4bc4-a9ee-4e3910013c34",
   "metadata": {},
   "outputs": [
    {
     "name": "stdout",
     "output_type": "stream",
     "text": [
      "0          CRIM   ZN INDUS CHAS    NOX     RM  AGE     DIS  RAD  TAX PTRATIO  \\\n",
      "count       506  506   506  506    506    506  506     506  506  506     506   \n",
      "unique      504   26    76    2     81    446  356     412    9   66      46   \n",
      "top     0.01501    0  18.1    0  0.538  5.713  100  3.4952   24  666    20.2   \n",
      "freq          2  372   132  471     23      3   43       5  132  132     140   \n",
      "\n",
      "0           B LSTAT MEDV  \n",
      "count     506   506  506  \n",
      "unique    357   455  229  \n",
      "top     396.9  7.79   50  \n",
      "freq      121     3   16  \n"
     ]
    }
   ],
   "source": [
    "# Get summary statistics\n",
    "print(df.describe())"
   ]
  },
  {
   "cell_type": "code",
   "execution_count": 19,
   "id": "c12002e4-57e7-46fe-9736-7ede6158a915",
   "metadata": {},
   "outputs": [
    {
     "data": {
      "text/plain": [
       "Index(['CRIM', 'ZN', 'INDUS', 'CHAS', 'NOX', 'RM', 'AGE', 'DIS', 'RAD', 'TAX',\n",
       "       'PTRATIO', 'B', 'LSTAT', 'MEDV'],\n",
       "      dtype='object', name=0)"
      ]
     },
     "execution_count": 19,
     "metadata": {},
     "output_type": "execute_result"
    }
   ],
   "source": [
    "df.columns"
   ]
  },
  {
   "cell_type": "code",
   "execution_count": 23,
   "id": "05ba3f1a-041c-41e5-b17a-d16c9688fd03",
   "metadata": {},
   "outputs": [],
   "source": [
    "df['MEDV'] = pd.to_numeric(df['MEDV'], errors='coerce')"
   ]
  },
  {
   "cell_type": "code",
   "execution_count": 29,
   "id": "b6f1c03e-da02-4d3c-8dfe-ba4c139fe4fa",
   "metadata": {},
   "outputs": [],
   "source": [
    "# Step 3: Define features (X) and target variable (y)\n",
    "X = df.drop('MEDV', axis=1)  # Features\n",
    "y = df['MEDV']  # Target variable"
   ]
  },
  {
   "cell_type": "code",
   "execution_count": 31,
   "id": "d05ef0a3-6cd8-4747-b68c-65f6bbf809fe",
   "metadata": {},
   "outputs": [],
   "source": [
    "from sklearn.model_selection import train_test_split\n",
    "\n",
    "# Split the data into training and testing sets\n",
    "X_train, X_test, y_train, y_test = train_test_split(X, y, test_size=0.2, random_state=42)\n"
   ]
  },
  {
   "cell_type": "code",
   "execution_count": 33,
   "id": "8c9d6b1e-acfc-414e-a208-a41ec451d113",
   "metadata": {},
   "outputs": [
    {
     "name": "stdout",
     "output_type": "stream",
     "text": [
      "Linear Regression: MSE = 24.291119474973613, R² = 0.6687594935356307\n"
     ]
    }
   ],
   "source": [
    "from sklearn.linear_model import LinearRegression\n",
    "from sklearn.metrics import mean_squared_error, r2_score\n",
    "\n",
    "# Create and train the model\n",
    "lin_reg = LinearRegression()\n",
    "lin_reg.fit(X_train, y_train)\n",
    "\n",
    "# Make predictions\n",
    "y_pred_lin = lin_reg.predict(X_test)\n",
    "\n",
    "# Evaluate the model\n",
    "mse_lin = mean_squared_error(y_test, y_pred_lin)\n",
    "r2_lin = r2_score(y_test, y_pred_lin)\n",
    "print(f'Linear Regression: MSE = {mse_lin}, R² = {r2_lin}')\n"
   ]
  },
  {
   "cell_type": "code",
   "execution_count": 35,
   "id": "0756805f-ddc4-419b-91fd-1eb48970bc88",
   "metadata": {},
   "outputs": [
    {
     "name": "stdout",
     "output_type": "stream",
     "text": [
      "Decision Tree Regression: MSE = 10.416078431372549, R² = 0.8579634380978161\n"
     ]
    }
   ],
   "source": [
    "from sklearn.tree import DecisionTreeRegressor\n",
    "\n",
    "# Create and train the model\n",
    "tree_reg = DecisionTreeRegressor(random_state=42)\n",
    "tree_reg.fit(X_train, y_train)\n",
    "\n",
    "# Make predictions\n",
    "y_pred_tree = tree_reg.predict(X_test)\n",
    "\n",
    "# Evaluate the model\n",
    "mse_tree = mean_squared_error(y_test, y_pred_tree)\n",
    "r2_tree = r2_score(y_test, y_pred_tree)\n",
    "print(f'Decision Tree Regression: MSE = {mse_tree}, R² = {r2_tree}')\n"
   ]
  },
  {
   "cell_type": "code",
   "execution_count": 37,
   "id": "d26704bf-4daa-42eb-b1bc-36dff420b712",
   "metadata": {},
   "outputs": [
    {
     "name": "stdout",
     "output_type": "stream",
     "text": [
      "Random Forest Regression: MSE = 7.901513892156864, R² = 0.8922527442109116\n"
     ]
    }
   ],
   "source": [
    "from sklearn.ensemble import RandomForestRegressor\n",
    "\n",
    "# Create and train the model\n",
    "forest_reg = RandomForestRegressor(random_state=42)\n",
    "forest_reg.fit(X_train, y_train)\n",
    "\n",
    "# Make predictions\n",
    "y_pred_forest = forest_reg.predict(X_test)\n",
    "\n",
    "# Evaluate the model\n",
    "mse_forest = mean_squared_error(y_test, y_pred_forest)\n",
    "r2_forest = r2_score(y_test, y_pred_forest)\n",
    "print(f'Random Forest Regression: MSE = {mse_forest}, R² = {r2_forest}')\n"
   ]
  },
  {
   "cell_type": "code",
   "execution_count": 39,
   "id": "1622bbbe-7c7d-4dfe-9b78-ac4eef00780e",
   "metadata": {},
   "outputs": [
    {
     "name": "stdout",
     "output_type": "stream",
     "text": [
      "Support Vector Regression: MSE = 29.435701924289845, R² = 0.5986065268181071\n"
     ]
    }
   ],
   "source": [
    "from sklearn.svm import SVR\n",
    "\n",
    "# Create and train the model\n",
    "svr_reg = SVR(kernel='linear')\n",
    "svr_reg.fit(X_train, y_train)\n",
    "\n",
    "# Make predictions\n",
    "y_pred_svr = svr_reg.predict(X_test)\n",
    "\n",
    "# Evaluate the model\n",
    "mse_svr = mean_squared_error(y_test, y_pred_svr)\n",
    "r2_svr = r2_score(y_test, y_pred_svr)\n",
    "print(f'Support Vector Regression: MSE = {mse_svr}, R² = {r2_svr}')\n"
   ]
  },
  {
   "cell_type": "code",
   "execution_count": 41,
   "id": "e6f682ac-4bbb-40cf-bbb0-a2d32d880dde",
   "metadata": {},
   "outputs": [
    {
     "name": "stdout",
     "output_type": "stream",
     "text": [
      "Gradient Boosting Regression: MSE = 6.208861361528038, R² = 0.9153342280466539\n"
     ]
    }
   ],
   "source": [
    "from sklearn.ensemble import GradientBoostingRegressor\n",
    "\n",
    "# Create and train the model\n",
    "gb_reg = GradientBoostingRegressor(random_state=42)\n",
    "gb_reg.fit(X_train, y_train)\n",
    "\n",
    "# Make predictions\n",
    "y_pred_gb = gb_reg.predict(X_test)\n",
    "\n",
    "# Evaluate the model\n",
    "mse_gb = mean_squared_error(y_test, y_pred_gb)\n",
    "r2_gb = r2_score(y_test, y_pred_gb)\n",
    "print(f'Gradient Boosting Regression: MSE = {mse_gb}, R² = {r2_gb}')\n"
   ]
  },
  {
   "cell_type": "code",
   "execution_count": 49,
   "id": "e04d472e-1a7c-43a0-9cd2-e78ab6db03ee",
   "metadata": {},
   "outputs": [
    {
     "name": "stdout",
     "output_type": "stream",
     "text": [
      "KNN Regression: MSE = 25.860125490196076, R² = 0.6473640882039258\n"
     ]
    }
   ],
   "source": [
    "#6. K-Nearest Neighbors Regression\n",
    "from sklearn.neighbors import KNeighborsRegressor\n",
    "knn_reg = KNeighborsRegressor(n_neighbors=5)  # You can adjust the number of neighbors\n",
    "knn_reg.fit(X_train, y_train)\n",
    "y_pred_knn = knn_reg.predict(X_test)\n",
    "mse_knn = mean_squared_error(y_test, y_pred_knn)\n",
    "r2_knn = r2_score(y_test, y_pred_knn)\n",
    "print(f'KNN Regression: MSE = {mse_knn}, R² = {r2_knn}')"
   ]
  },
  {
   "cell_type": "code",
   "execution_count": 55,
   "id": "caaaf661-499e-48a9-ad72-5baf9191aa9d",
   "metadata": {},
   "outputs": [
    {
     "name": "stdout",
     "output_type": "stream",
     "text": [
      "               Model        MSE        R²\n",
      "0  Linear Regression  24.291119  0.668759\n",
      "1      Decision Tree  10.416078  0.857963\n",
      "2      Random Forest   7.901514  0.892253\n",
      "3                SVR  29.435702  0.598607\n",
      "4                KNN  25.860125  0.647364\n",
      "5  Gradient Boosting   6.208861  0.915334\n"
     ]
    }
   ],
   "source": [
    "results = {\n",
    "    'Model': ['Linear Regression', 'Decision Tree', 'Random Forest', 'SVR','KNN', 'Gradient Boosting', ],\n",
    "    'MSE': [mse_lin, mse_tree, mse_forest, mse_svr,mse_knn, mse_gb],\n",
    "    'R²': [r2_lin, r2_tree, r2_forest, r2_svr,r2_knn, r2_gb],\n",
    "}\n",
    "\n",
    "results_df = pd.DataFrame(results)\n",
    "print(results_df)"
   ]
  },
  {
   "cell_type": "code",
   "execution_count": 7,
   "id": "cdf838c8-190c-43c0-aeba-2cccc58d5bd1",
   "metadata": {},
   "outputs": [],
   "source": [
    "df.to_csv(\"boston_train.csv\", index=False)\n",
    "df.to_csv(\"boston_test.csv\", index=False)"
   ]
  },
  {
   "cell_type": "code",
   "execution_count": null,
   "id": "1aa5a745-60b9-49a0-990c-86653bb4d639",
   "metadata": {},
   "outputs": [],
   "source": []
  },
  {
   "cell_type": "code",
   "execution_count": null,
   "id": "4f8a2c83-6c8d-4cd3-af33-7deccb186387",
   "metadata": {},
   "outputs": [],
   "source": []
  }
 ],
 "metadata": {
  "kernelspec": {
   "display_name": "Python 3 (ipykernel)",
   "language": "python",
   "name": "python3"
  },
  "language_info": {
   "codemirror_mode": {
    "name": "ipython",
    "version": 3
   },
   "file_extension": ".py",
   "mimetype": "text/x-python",
   "name": "python",
   "nbconvert_exporter": "python",
   "pygments_lexer": "ipython3",
   "version": "3.12.4"
  }
 },
 "nbformat": 4,
 "nbformat_minor": 5
}
